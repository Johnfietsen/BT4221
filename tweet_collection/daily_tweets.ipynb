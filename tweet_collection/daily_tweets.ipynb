{
 "cells": [
  {
   "cell_type": "code",
   "execution_count": 104,
   "metadata": {
    "collapsed": true
   },
   "outputs": [],
   "source": [
    "import pandas as pd\n",
    "import glob\n",
    "from datetime import datetime, timedelta, date\n",
    "import preprocessor as prep\n",
    "import string\n",
    "import re\n",
    "import nltk\n",
    "pd.set_option('display.max_colwidth', -1)"
   ]
  },
  {
   "cell_type": "markdown",
   "metadata": {},
   "source": [
    "Loop over the csv files per company "
   ]
  },
  {
   "cell_type": "markdown",
   "metadata": {},
   "source": [
    "New York Stock exchange opening hours are (UTC) 14:30 - 21:00"
   ]
  },
  {
   "cell_type": "code",
   "execution_count": 47,
   "metadata": {
    "collapsed": true
   },
   "outputs": [],
   "source": [
    "def get_tweets(file, evening):\n",
    "    data = pd.read_csv(file)\n",
    "    data['Created at'] = pd.to_datetime(data['Created at'])\n",
    "    if evening:\n",
    "        closure_time = datetime.combine(data['Created at'].max().date(), datetime.strptime('2100','%H%M').time())\n",
    "        data = data[data['Created at'] >= closure_time]\n",
    "    else:\n",
    "        open_time = datetime.combine(data['Created at'].max().date(), datetime.strptime('1430','%H%M').time())\n",
    "        data = data[data['Created at'] <= open_time]\n",
    "    return data[['Created at', 'Content']]"
   ]
  },
  {
   "cell_type": "code",
   "execution_count": 71,
   "metadata": {
    "collapsed": true
   },
   "outputs": [],
   "source": [
    "def create_daily_df(prev_file, file):\n",
    "    eve_data = get_tweets(prev_file, True)\n",
    "    mor_data = get_tweets(file, False)\n",
    "    return pd.concat([eve_data, mor_data])"
   ]
  },
  {
   "cell_type": "code",
   "execution_count": 154,
   "metadata": {},
   "outputs": [],
   "source": [
    "def remove_twitter_specific(text):\n",
    "    prep.set_options(\n",
    "          prep.OPT.URL\n",
    "        , prep.OPT.MENTION\n",
    "    # Dont' remove hashtags instead convert them to normal words\n",
    "    #    , prep.OPT.HASHTAG\n",
    "    # Removes for example RT and similiar twitter reserved words    \n",
    "        , prep.OPT.RESERVED\n",
    "        , prep.OPT.EMOJI\n",
    "        , prep.OPT.SMILEY)\n",
    "    return prep.clean(text)\n",
    "\n",
    "def remove_punctuation(text):\n",
    "    text  = \"\".join([char for char in text if char not in string.punctuation])\n",
    "    text = re.sub('[0-9]+', '', text)\n",
    "    text = text.replace('“', '').replace('”', '').replace('…', '')\n",
    "    return text.lower()\n",
    "\n",
    "def stemming(text, stemmer):\n",
    "    text_list =  [stemmer.stem(word) for word in text.split(' ')]\n",
    "    #text = [word for word in text if word != ' ']\n",
    "    return \" \".join(text_list)\n",
    "    \n",
    "def clean_tweet(text, stemmer):\n",
    "    text = remove_twitter_specific(text)\n",
    "    text = remove_punctuation(text)\n",
    "    #text = stemming(text, stemmer)\n",
    "    return text.strip()\n",
    "    \n",
    "\n",
    "def create_cleaned_csv(df, comp, stemmer):\n",
    "    df = df['Content']\n",
    "    df = df.apply(lambda x: clean_tweet(x, stemmer))\n",
    "    date = file.split('.')[0][len(file)-14:]\n",
    "    df.to_csv('data/tweets/unstemmed/%s_%s.csv' % (comp, date), index=False)"
   ]
  },
  {
   "cell_type": "code",
   "execution_count": 156,
   "metadata": {},
   "outputs": [],
   "source": [
    "prev_comp = ''\n",
    "prev_file = ''\n",
    "stemmer = nltk.PorterStemmer()\n",
    "for counter, file in enumerate(glob.glob('data/tweets/temp/*.csv')):\n",
    "    comp = file.split('\\\\')[1].split('_')[0]\n",
    "    if prev_comp == comp:\n",
    "        df = create_daily_df(prev_file, file)\n",
    "        create_cleaned_csv(df, comp, stemmer)\n",
    "    prev_comp = comp\n",
    "    prev_file = file"
   ]
  },
  {
   "cell_type": "code",
   "execution_count": null,
   "metadata": {
    "collapsed": true
   },
   "outputs": [],
   "source": []
  }
 ],
 "metadata": {
  "kernelspec": {
   "display_name": "Python 3",
   "language": "python",
   "name": "python3"
  },
  "language_info": {
   "codemirror_mode": {
    "name": "ipython",
    "version": 3
   },
   "file_extension": ".py",
   "mimetype": "text/x-python",
   "name": "python",
   "nbconvert_exporter": "python",
   "pygments_lexer": "ipython3",
   "version": "3.6.1"
  }
 },
 "nbformat": 4,
 "nbformat_minor": 2
}
